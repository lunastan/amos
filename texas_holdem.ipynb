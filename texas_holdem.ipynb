{
 "cells": [
  {
   "cell_type": "code",
   "execution_count": 1,
   "metadata": {},
   "outputs": [],
   "source": [
    "class Player:\n",
    "    def __init__(self, ID, PW, budget):\n",
    "        self.ID = ID\n",
    "        self.PW = PW\n",
    "        self.budget = budget\n",
    "        self.deck = []\n",
    "        self.deck_point = 0\n",
    "    def join(self, Card): # player가 할수 있는 행동 중 게임에 참가하기\n",
    "        pass\n",
    "    def leave(self): # player가 할수 있는 행동 중 게임에서 퇴장하기\n",
    "        pass \n",
    "    def bet(self):\n",
    "        pass\n",
    "    def drop(self): # 게임에서 죽는다 ( 게임을 나가지는 않지만, 그 판을 포기한다.)\n",
    "        pass\n",
    "    def __repr__(self):\n",
    "        return str((self.ID, self.budget))"
   ]
  },
  {
   "cell_type": "code",
   "execution_count": 2,
   "metadata": {},
   "outputs": [],
   "source": [
    "yh = Player(\"cha\", 1234, 1000000)    # 플레이어 객체 생성\n",
    "yk = Player(\"choi\", 5678, 123456789) # 플레이어 객체 생성\n",
    "sm = Player(\"kim\", 8910, 198765432)  # 플레이어 객체 생성\n",
    "test = Player(\"test\", 0, 0)          # 플레이어 객체 생성\n",
    "\n",
    "player_list = [yh, yk, sm]"
   ]
  },
  {
   "cell_type": "code",
   "execution_count": 3,
   "metadata": {},
   "outputs": [],
   "source": [
    "import random\n",
    "\n",
    "class Card():\n",
    "    def __init__(self):\n",
    "        self.deck =[] \n",
    "        number = [1, 2, 3, 4, 5, 6, 7, 8, 9, 10, 11, 12, 13]\n",
    "        pattern = ['SPADE', \"DIA\", \"HEART\", \"CLOVER\"]\n",
    "        for shape in pattern:\n",
    "            for num in number:\n",
    "                self.deck.append((num, shape)) # self.deck은 52장의 각기 다른 카드를 가진 리스트\n",
    "    def shuffle(self): # Method overriding\n",
    "        random.shuffle(self.deck)\n",
    "    def draw(self):\n",
    "        return self.deck.pop()"
   ]
  },
  {
   "cell_type": "code",
   "execution_count": 4,
   "metadata": {},
   "outputs": [],
   "source": [
    "class Texas_holdem(Card):\n",
    "    def __init__(self):\n",
    "        super().__init__()\n",
    "        self.game_name = \"Texas_holdem\"\n",
    "        self.score = []\n",
    "        self.combination = \"\"\n",
    "    def chk_combination(self, my_deck = [], community_cards=[]):  # 현재 카드 7장의 조합 조건 검사(내 카드 두장 + 공통 덱 5장)\n",
    "        cards = my_deck + community_cards\n",
    "        rank = 1  # 기본 조합 점수 (High card) : No pair, top number\n",
    "        max_card_num = max([num[0] for num in my_deck]) # 조합 점수로 서열 비교 불가할 때 자신이 가진 카드 두 장 중 숫자 크기로 비교 위해 저장 \n",
    "        '''\n",
    "        if self.straight_flush(cards) == True: # flush + straight\n",
    "            rank = 9\n",
    "        elif self.four_card(cards) == True: # 같은 숫자 4장\n",
    "            rank = 8\n",
    "        elif self.full_house(cards) == True: # triple + one pair\n",
    "            rank = 7\n",
    "        elif self.flush(cards) == True: # 5장의 무늬가 모두 같음\n",
    "            rank = 6\n",
    "        elif self.straight(cards) == True: # 5장의 숫자가 모두 이어짐\n",
    "            rank = 5\n",
    "        elif self.triple(cards) == True: # 같은 숫자 3장\n",
    "            rank = 4\n",
    "        elif self.two_pair(cards) == True: # one pair가 두 개\n",
    "            rank = 3\n",
    "        '''\n",
    "        if self.one_pair(cards) is not True:\n",
    "            self.combination = \"one pair\"\n",
    "\n",
    "        self.score = [rank, max_card_num]\n",
    "    \n",
    "    \n",
    "    def one_pair(self, cards=[]):\n",
    "        card_num_list = [num[0] for num in cards]\n",
    "        if len(card_num_list) != len(set(card_num_list)):\n",
    "            return True\n",
    "        \n",
    "    def two_pair(self, cards=[]):\n",
    "        pass\n",
    "    def triple(self, cards=[]):\n",
    "        pass\n",
    "    def stright(self, cards=[]):\n",
    "        pass\n",
    "    def flush(self, cards=[]):\n",
    "        pass\n",
    "    def full_house(self, cards=[]):\n",
    "        pass\n",
    "    def four_card(self, cards=[]):\n",
    "        pass\n",
    "    def straight_flush(self, cards=[]):\n",
    "        pass\n",
    "    def one_pair(self, cards=[]):\n",
    "        pass\n",
    "    def one_pair(self, cards=[]):\n",
    "        pass\n",
    "    \n",
    "            \n",
    "        \n",
    "    def straight_flush(self, cards=[]):\n",
    "        pass\n",
    "    def high_card(self, cards=[]):\n",
    "        self.combination = [1, max([num[0] for num in cards])]\n",
    "    def one_pair(self, cards = []):\n",
    "        self.combination\n",
    "    def royal_straight_flush(self, cards=[]):\n",
    "        pass\n",
    "    \n",
    "    def check_deck_rank(self, cards=[]):\n",
    "        self.high_card(cards)"
   ]
  },
  {
   "cell_type": "code",
   "execution_count": 5,
   "metadata": {},
   "outputs": [],
   "source": [
    "class Game(Texas_holdem):\n",
    "    def __init__(self, player_list=[]):\n",
    "        super().__init__()\n",
    "        self.player_list = player_list"
   ]
  },
  {
   "cell_type": "code",
   "execution_count": 6,
   "metadata": {},
   "outputs": [
    {
     "name": "stdout",
     "output_type": "stream",
     "text": [
      "Game name: Texas_holdem\n",
      "my_card:        [(5, 'HEART'), (7, 'SPADE')]\n",
      "community card: [(8, 'DIA'), (1, 'HEART'), (12, 'SPADE'), (2, 'HEART'), (2, 'CLOVER')]\n",
      "my combination:  one pair\n",
      "seven card:  [(5, 'HEART'), (7, 'SPADE'), (8, 'DIA'), (1, 'HEART'), (12, 'SPADE'), (2, 'HEART'), (2, 'CLOVER')]\n",
      "my score:  [1, 7]\n"
     ]
    }
   ],
   "source": [
    "texas_holdem = Game()\n",
    "print(\"Game name:\", texas_holdem.game_name)\n",
    "texas_holdem.shuffle()\n",
    "\n",
    "my_card = [texas_holdem.draw(), texas_holdem.draw()]\n",
    "community_card = [texas_holdem.draw(), texas_holdem.draw(), texas_holdem.draw(), texas_holdem.draw(), texas_holdem.draw()]\n",
    "cards = my_card + community_card\n",
    "print(\"my_card:       \", my_card)\n",
    "print(\"community card:\", community_card)\n",
    "texas_holdem.chk_combination(my_card, community_card)\n",
    "print(\"my combination: \", texas_holdem.combination)\n",
    "print(\"seven card: \", cards)\n",
    "\n",
    "card_num_list = [num[0] for num in cards]\n",
    "card_num_list.sort()\n",
    "print(\"my score: \", texas_holdem.score)"
   ]
  },
  {
   "cell_type": "code",
   "execution_count": 29,
   "metadata": {},
   "outputs": [],
   "source": [
    "texas_holdem.one_pair(cards)"
   ]
  },
  {
   "cell_type": "code",
   "execution_count": 34,
   "metadata": {},
   "outputs": [
    {
     "name": "stdout",
     "output_type": "stream",
     "text": [
      "None\n",
      "one pair\n"
     ]
    }
   ],
   "source": [
    "print(texas_holdem.one_pair(cards))\n",
    "print(texas_holdem.combination)"
   ]
  },
  {
   "cell_type": "code",
   "execution_count": 42,
   "metadata": {},
   "outputs": [
    {
     "data": {
      "text/plain": [
       "[5, 6, 7, 9, 11, 12, 13]"
      ]
     },
     "execution_count": 42,
     "metadata": {},
     "output_type": "execute_result"
    }
   ],
   "source": [
    "card_num_list = [num[0] for num in cards]\n",
    "card_num_list.sort()\n",
    "card_num_list"
   ]
  },
  {
   "cell_type": "code",
   "execution_count": 21,
   "metadata": {},
   "outputs": [
    {
     "data": {
      "text/plain": [
       "[1, 5, 5, 23]"
      ]
     },
     "execution_count": 21,
     "metadata": {},
     "output_type": "execute_result"
    }
   ],
   "source": [
    "my = [5,23,5,1]\n",
    "my.sort()\n",
    "my"
   ]
  },
  {
   "cell_type": "code",
   "execution_count": 7,
   "metadata": {},
   "outputs": [
    {
     "data": {
      "text/plain": [
       "13"
      ]
     },
     "execution_count": 7,
     "metadata": {},
     "output_type": "execute_result"
    }
   ],
   "source": [
    "texas_holdem.check_deck_rank(my_card)\n",
    "texas_holdem.current_deck_point"
   ]
  },
  {
   "cell_type": "code",
   "execution_count": null,
   "metadata": {},
   "outputs": [],
   "source": []
  },
  {
   "cell_type": "code",
   "execution_count": 9,
   "metadata": {},
   "outputs": [
    {
     "name": "stdout",
     "output_type": "stream",
     "text": [
      "(12, 'HEART')\n",
      "51\n"
     ]
    }
   ],
   "source": [
    "print(texas_holdem.draw())\n",
    "print(len(texas_holdem.deck))"
   ]
  },
  {
   "cell_type": "code",
   "execution_count": 67,
   "metadata": {},
   "outputs": [
    {
     "name": "stdout",
     "output_type": "stream",
     "text": [
      "[None, None]\n",
      "50\n"
     ]
    }
   ],
   "source": [
    "th = Game()\n",
    "th.shuffle()\n",
    "my_card = [th.draw(), th.draw()]\n",
    "print(my_card)\n",
    "print(len(th.deck))\n"
   ]
  },
  {
   "cell_type": "code",
   "execution_count": 8,
   "metadata": {},
   "outputs": [
    {
     "name": "stdout",
     "output_type": "stream",
     "text": [
      "[('cha', 1000000), ('choi', 123456789), ('kim', 198765432)]\n",
      "my card:  [(11, 'SPADE'), (2, 'SPADE')]\n",
      "high card:  11\n"
     ]
    }
   ],
   "source": [
    "texas_holdem = Game(player_list)\n",
    "my_card = [texas_holdem.deck[10], texas_holdem.deck[1]]\n",
    "texas_holdem.check_deck_rank(my_card)\n",
    "\n",
    "print(texas_holdem.player_list)\n",
    "print(\"my card: \", my_card)\n",
    "print(\"high card: \", texas_holdem.current_deck_point)"
   ]
  },
  {
   "cell_type": "code",
   "execution_count": null,
   "metadata": {},
   "outputs": [],
   "source": []
  },
  {
   "cell_type": "code",
   "execution_count": null,
   "metadata": {},
   "outputs": [],
   "source": []
  },
  {
   "cell_type": "code",
   "execution_count": 13,
   "metadata": {},
   "outputs": [
    {
     "data": {
      "text/plain": [
       "('SPADE', 1)"
      ]
     },
     "execution_count": 13,
     "metadata": {},
     "output_type": "execute_result"
    }
   ],
   "source": [
    "truples.deck[0]"
   ]
  },
  {
   "cell_type": "code",
   "execution_count": null,
   "metadata": {},
   "outputs": [],
   "source": []
  },
  {
   "cell_type": "code",
   "execution_count": null,
   "metadata": {},
   "outputs": [],
   "source": []
  },
  {
   "cell_type": "code",
   "execution_count": null,
   "metadata": {},
   "outputs": [],
   "source": []
  },
  {
   "cell_type": "code",
   "execution_count": null,
   "metadata": {},
   "outputs": [],
   "source": []
  },
  {
   "cell_type": "code",
   "execution_count": null,
   "metadata": {},
   "outputs": [],
   "source": []
  },
  {
   "cell_type": "code",
   "execution_count": 2,
   "metadata": {},
   "outputs": [],
   "source": [
    "class Dealer:\n",
    "    def __init__(self, player_list=[]):\n",
    "        self.game = Texas_holdem(player_list)\n",
    "        self.seed = player_list[0]\n",
    "        self.community_card = []\n",
    "    def player_deck_points(self):\n",
    "        pass\n",
    "    def winner_takes_all(self):\n",
    "        pass\n",
    "    def ask_bet(self):\n",
    "        pass"
   ]
  },
  {
   "cell_type": "code",
   "execution_count": 3,
   "metadata": {},
   "outputs": [],
   "source": [
    "class Game:\n",
    "    def __init__(self, player_list=[]):\n",
    "        self.player_list = player_list\n",
    "        self.payout = 1000\n",
    "    def player_kick(self):\n",
    "        pass\n",
    "    def player_leave(self):\n",
    "        pass"
   ]
  },
  {
   "cell_type": "code",
   "execution_count": 4,
   "metadata": {},
   "outputs": [],
   "source": [
    "class Card(Game):\n",
    "    def __init__(self):\n",
    "        super().__init__()\n",
    "        self.deck =[] \n",
    "        number = [1, 2, 3, 4, 5, 6, 7, 8, 9, 10, 11, 12, 13]\n",
    "        pattern = ['SPADE', \"HEART\", \"DIA\", \"CLOVER\"]\n",
    "        for shape in pattern:\n",
    "            for num in number:\n",
    "                self.deck.append((shape, num)) # self.deck은 52장의 각기 다른 카드를 가진 리스트\n",
    "    def shuffle(self): # Method overriding\n",
    "        random.shuffle(self.deck)\n",
    "    def draw(self):\n",
    "        self.deck.pop()"
   ]
  },
  {
   "cell_type": "code",
   "execution_count": 5,
   "metadata": {},
   "outputs": [],
   "source": [
    "class Texas_holdem(Card):\n",
    "    def __init__(self, player_list=[]):\n",
    "        super().__init__()\n",
    "        self.game_name = \"Texas_holdem\"\n",
    "    def high_card(self):\n",
    "        pass\n",
    "    def royal_straight_flush(self):\n",
    "        pass"
   ]
  },
  {
   "cell_type": "code",
   "execution_count": 6,
   "metadata": {},
   "outputs": [],
   "source": [
    "class Database:\n",
    "    def __init__(self, IP_addr=None):\n",
    "        self.IP_addr = IP_addr\n",
    "        self.database = []\n",
    "    def account_register(self, account):\n",
    "        self.database.append(account)\n",
    "    def account_withdrawal(self, account):\n",
    "        self.database.remove(account)\n",
    "    def account_login(self, account):\n",
    "        pass\n",
    "    def account_logout(self, accout):\n",
    "        pass"
   ]
  },
  {
   "cell_type": "code",
   "execution_count": 7,
   "metadata": {},
   "outputs": [],
   "source": [
    "class Casino(Database):\n",
    "    def __init__(self):\n",
    "        super().__init__()\n",
    "        self.player_list = []\n",
    "        self.dealer = Dealer\n",
    "    def account_login(self, account):\n",
    "        if account in self.database:\n",
    "            self.player_list.append(account)\n",
    "    def account_logout(self, account):\n",
    "        pass\n",
    "    def play_game(self):\n",
    "        if len(self.player_list) == 3:\n",
    "            self.dealer = Dealer(self.player_list)"
   ]
  },
  {
   "cell_type": "code",
   "execution_count": 8,
   "metadata": {},
   "outputs": [],
   "source": [
    "yh = Player(\"cha\", 1234, 1000000)    # 플레이어 객체 생성\n",
    "yk = Player(\"choi\", 5678, 123456789) # 플레이어 객체 생성\n",
    "sm = Player(\"kim\", 8910, 198765432)  # 플레이어 객체 생성\n",
    "test = Player(\"test\", 0, 0)          # 플레이어 객체 생성"
   ]
  },
  {
   "cell_type": "code",
   "execution_count": 9,
   "metadata": {},
   "outputs": [],
   "source": [
    "seven_luck = Casino()\n",
    "seven_luck.account_register(yh)\n",
    "seven_luck.account_register(yk)\n",
    "seven_luck.account_register(sm)\n",
    "seven_luck.account_register(test)\n",
    "\n",
    "seven_luck.account_login(yh)\n",
    "seven_luck.account_login(yk)\n",
    "seven_luck.account_login(sm)"
   ]
  },
  {
   "cell_type": "code",
   "execution_count": 10,
   "metadata": {},
   "outputs": [
    {
     "name": "stdout",
     "output_type": "stream",
     "text": [
      "[('cha', 1000000), ('choi', 123456789), ('kim', 198765432), ('test', 0)]\n",
      "[('cha', 1000000), ('choi', 123456789), ('kim', 198765432)]\n"
     ]
    }
   ],
   "source": [
    "texas_holem_account_list = seven_luck.database\n",
    "texas_holdem_player_list = seven_luck.player_list\n",
    "print(texas_holem_account_list)\n",
    "print(texas_holdem_player_list)"
   ]
  },
  {
   "cell_type": "code",
   "execution_count": 62,
   "metadata": {},
   "outputs": [
    {
     "name": "stdout",
     "output_type": "stream",
     "text": [
      "('cha', 1000000)\n",
      "Texas_holdem\n",
      "1000\n",
      "[('SPADE', 1), ('SPADE', 2), ('SPADE', 3), ('SPADE', 4), ('SPADE', 5), ('SPADE', 6), ('SPADE', 7), ('SPADE', 8), ('SPADE', 9), ('SPADE', 10), ('SPADE', 11), ('SPADE', 12), ('SPADE', 13), ('HEART', 1), ('HEART', 2), ('HEART', 3), ('HEART', 4), ('HEART', 5), ('HEART', 6), ('HEART', 7), ('HEART', 8), ('HEART', 9), ('HEART', 10), ('HEART', 11), ('HEART', 12), ('HEART', 13), ('DIA', 1), ('DIA', 2), ('DIA', 3), ('DIA', 4), ('DIA', 5), ('DIA', 6), ('DIA', 7), ('DIA', 8), ('DIA', 9), ('DIA', 10), ('DIA', 11), ('DIA', 12), ('DIA', 13), ('CLOVER', 1), ('CLOVER', 2), ('CLOVER', 3), ('CLOVER', 4), ('CLOVER', 5), ('CLOVER', 6), ('CLOVER', 7), ('CLOVER', 8), ('CLOVER', 9), ('CLOVER', 10), ('CLOVER', 11), ('CLOVER', 12), ('CLOVER', 13)]\n"
     ]
    }
   ],
   "source": [
    "seed_player = seven_luck.dealer(texas_holdem_player_list).seed\n",
    "game_name = seven_luck.dealer(texas_holdem_player_list).game.game_name\n",
    "payout = seven_luck.dealer(texas_holdem_player_list).game.payout\n",
    "deck = seven_luck.dealer(texas_holdem_player_list).game.deck\n",
    "print(seed_player)\n",
    "print(game_name)\n",
    "print(payout)\n",
    "print(deck)"
   ]
  },
  {
   "cell_type": "code",
   "execution_count": 63,
   "metadata": {},
   "outputs": [
    {
     "data": {
      "text/plain": [
       "('CLOVER', 13)"
      ]
     },
     "execution_count": 63,
     "metadata": {},
     "output_type": "execute_result"
    }
   ],
   "source": [
    "deck.pop()"
   ]
  },
  {
   "cell_type": "code",
   "execution_count": 7,
   "metadata": {},
   "outputs": [],
   "source": [
    "class Game:\n",
    "    def __init__(self, player_list):\n",
    "        self.player_list = player_list\n",
    "    def player_kick(self):\n",
    "        pass\n",
    "    def player_leave(self):\n",
    "        pass"
   ]
  },
  {
   "cell_type": "code",
   "execution_count": 10,
   "metadata": {},
   "outputs": [],
   "source": [
    "class Card(Game):\n",
    "    def __init__(self):\n",
    "        super().__init__()\n",
    "        self.deck =[] \n",
    "        number = [1, 2, 3, 4, 5, 6, 7, 8, 9, 10, 11, 12, 13]\n",
    "        pattern = ['SPADE', \"HEART\", \"DIA\", \"CLOVER\"]\n",
    "        for shape in pattern:\n",
    "            for num in number:\n",
    "                self.deck.append((shape, num)) # self.deck은 52장의 각기 다른 카드를 가진 리스트\n",
    "    def shuffle(self): # Method overriding\n",
    "        random.shuffle(self.deck)\n",
    "    def draw(self):\n",
    "        return self.deck.pop()"
   ]
  },
  {
   "cell_type": "code",
   "execution_count": 12,
   "metadata": {},
   "outputs": [],
   "source": [
    "class Texas_holdem(Card):\n",
    "    def __init__(self):\n",
    "        super().__init__()\n",
    "        self.game_name = \"Texas_holdem\"\n",
    "    def high_card(self):\n",
    "        pass\n",
    "    \"\"\"\n",
    "    \n",
    "    \n",
    "    \"\"\"\n",
    "    def royal_straight_flush(self):\n",
    "        pass"
   ]
  },
  {
   "cell_type": "code",
   "execution_count": 13,
   "metadata": {},
   "outputs": [
    {
     "name": "stdout",
     "output_type": "stream",
     "text": [
      "[('cha', 1000000), ('choi', 123456789), ('kim', 198765432), ('test', 0)]\n",
      "[('cha', 1000000), ('choi', 123456789), ('kim', 198765432)]\n"
     ]
    }
   ],
   "source": [
    "texas_holem_account_list = seven_luck.database\n",
    "texas_holdem_player_list = seven_luck.player_list\n",
    "print(texas_holem_account_list)\n",
    "print(texas_holdem_player_list)"
   ]
  },
  {
   "cell_type": "code",
   "execution_count": 9,
   "metadata": {},
   "outputs": [],
   "source": [
    "class Dealer:\n",
    "    def __init__(self, player_list):\n",
    "        self.game = Texas_holdem(player_list)\n",
    "        self.seed = player_list[0]\n",
    "    def player_deck_points(self):\n",
    "        pass\n",
    "    def winner_takes_all(self):\n",
    "        pass\n",
    "    def ask_bet(self):\n",
    "        pass"
   ]
  },
  {
   "cell_type": "code",
   "execution_count": null,
   "metadata": {},
   "outputs": [],
   "source": [
    "class Texas"
   ]
  },
  {
   "cell_type": "code",
   "execution_count": null,
   "metadata": {},
   "outputs": [],
   "source": []
  },
  {
   "cell_type": "code",
   "execution_count": null,
   "metadata": {},
   "outputs": [],
   "source": []
  },
  {
   "cell_type": "code",
   "execution_count": null,
   "metadata": {},
   "outputs": [],
   "source": []
  }
 ],
 "metadata": {
  "kernelspec": {
   "display_name": "bitaca",
   "language": "python",
   "name": "bitaca"
  },
  "language_info": {
   "codemirror_mode": {
    "name": "ipython",
    "version": 3
   },
   "file_extension": ".py",
   "mimetype": "text/x-python",
   "name": "python",
   "nbconvert_exporter": "python",
   "pygments_lexer": "ipython3",
   "version": "3.9.6"
  }
 },
 "nbformat": 4,
 "nbformat_minor": 4
}

{
 "cells": [
  {
   "cell_type": "code",
   "execution_count": 6,
   "metadata": {},
   "outputs": [],
   "source": [
    "import random\n",
    "\n",
    "class Card:\n",
    "    def __init__(self):\n",
    "        number = [1, 2, 3, 4, 5, 6, 7, 8, 9, 10, 11, 12, 13]\n",
    "        pattern = ['SPADE', \"HEART\", \"DIA\", \"CLOVER\"]\n",
    "        self.deck =[]\n",
    "        for shape in pattern:\n",
    "            for num in number:\n",
    "                self.deck.append((shape, num))\n",
    "    def shuffle(self): #카드 섞기 기능\n",
    "        random.shuffle(self.deck)\n",
    "    def draw(self, player, count): # 카드를 몇 명한테 몇 장을 줄 건지 ex) draw( 3, 5 ) 3명한테 5장을 한장씩 돌아가며 준다.\n",
    "        pass\n",
    "            "
   ]
  },
  {
   "cell_type": "code",
   "execution_count": 4,
   "metadata": {},
   "outputs": [
    {
     "data": {
      "text/plain": [
       "[('DIA', 10),\n",
       " ('CLOVER', 2),\n",
       " ('CLOVER', 4),\n",
       " ('SPADE', 5),\n",
       " ('DIA', 8),\n",
       " ('DIA', 11),\n",
       " ('CLOVER', 8),\n",
       " ('SPADE', 12),\n",
       " ('SPADE', 1),\n",
       " ('CLOVER', 1),\n",
       " ('HEART', 12),\n",
       " ('HEART', 8),\n",
       " ('CLOVER', 11),\n",
       " ('SPADE', 3),\n",
       " ('HEART', 3),\n",
       " ('DIA', 12),\n",
       " ('CLOVER', 12),\n",
       " ('SPADE', 10),\n",
       " ('SPADE', 11),\n",
       " ('SPADE', 6),\n",
       " ('CLOVER', 5),\n",
       " ('DIA', 1),\n",
       " ('DIA', 5),\n",
       " ('DIA', 6),\n",
       " ('HEART', 11),\n",
       " ('SPADE', 4),\n",
       " ('SPADE', 8),\n",
       " ('HEART', 1),\n",
       " ('CLOVER', 7),\n",
       " ('DIA', 9),\n",
       " ('DIA', 3),\n",
       " ('HEART', 9),\n",
       " ('HEART', 6),\n",
       " ('SPADE', 2),\n",
       " ('DIA', 4),\n",
       " ('CLOVER', 9),\n",
       " ('HEART', 13),\n",
       " ('SPADE', 13),\n",
       " ('CLOVER', 13),\n",
       " ('HEART', 2),\n",
       " ('CLOVER', 6),\n",
       " ('SPADE', 9),\n",
       " ('CLOVER', 10),\n",
       " ('CLOVER', 3),\n",
       " ('HEART', 4),\n",
       " ('HEART', 10),\n",
       " ('SPADE', 7),\n",
       " ('DIA', 13),\n",
       " ('DIA', 7),\n",
       " ('DIA', 2),\n",
       " ('HEART', 7),\n",
       " ('HEART', 5)]"
      ]
     },
     "execution_count": 4,
     "metadata": {},
     "output_type": "execute_result"
    }
   ],
   "source": [
    "DECK = Card()\n",
    "DECK.shuffle()\n",
    "DECK.deck"
   ]
  },
  {
   "cell_type": "code",
   "execution_count": 42,
   "metadata": {},
   "outputs": [
    {
     "data": {
      "text/plain": [
       "[['SPADE', 1],\n",
       " ['SPADE', 2],\n",
       " ['SPADE', 3],\n",
       " ['SPADE', 4],\n",
       " ['SPADE', 5],\n",
       " ['SPADE', 6],\n",
       " ['SPADE', 7],\n",
       " ['SPADE', 8],\n",
       " ['SPADE', 9],\n",
       " ['SPADE', 10],\n",
       " ['SPADE', 11],\n",
       " ['SPADE', 12],\n",
       " ['SPADE', 13],\n",
       " ['HEART', 1],\n",
       " ['HEART', 2],\n",
       " ['HEART', 3],\n",
       " ['HEART', 4],\n",
       " ['HEART', 5],\n",
       " ['HEART', 6],\n",
       " ['HEART', 7],\n",
       " ['HEART', 8],\n",
       " ['HEART', 9],\n",
       " ['HEART', 10],\n",
       " ['HEART', 11],\n",
       " ['HEART', 12],\n",
       " ['HEART', 13],\n",
       " ['DIA', 1],\n",
       " ['DIA', 2],\n",
       " ['DIA', 3],\n",
       " ['DIA', 4],\n",
       " ['DIA', 5],\n",
       " ['DIA', 6],\n",
       " ['DIA', 7],\n",
       " ['DIA', 8],\n",
       " ['DIA', 9],\n",
       " ['DIA', 10],\n",
       " ['DIA', 11],\n",
       " ['DIA', 12],\n",
       " ['DIA', 13],\n",
       " ['CLOVER', 1],\n",
       " ['CLOVER', 2],\n",
       " ['CLOVER', 3],\n",
       " ['CLOVER', 4],\n",
       " ['CLOVER', 5],\n",
       " ['CLOVER', 6],\n",
       " ['CLOVER', 7],\n",
       " ['CLOVER', 8],\n",
       " ['CLOVER', 9],\n",
       " ['CLOVER', 10],\n",
       " ['CLOVER', 11],\n",
       " ['CLOVER', 12],\n",
       " ['CLOVER', 13]]"
      ]
     },
     "execution_count": 42,
     "metadata": {},
     "output_type": "execute_result"
    }
   ],
   "source": [
    "mydeck"
   ]
  },
  {
   "cell_type": "code",
   "execution_count": 43,
   "metadata": {},
   "outputs": [],
   "source": [
    "random.shuffle(mydeck)"
   ]
  },
  {
   "cell_type": "code",
   "execution_count": 44,
   "metadata": {},
   "outputs": [
    {
     "data": {
      "text/plain": [
       "[['HEART', 3],\n",
       " ['DIA', 5],\n",
       " ['HEART', 10],\n",
       " ['DIA', 12],\n",
       " ['HEART', 6],\n",
       " ['CLOVER', 11],\n",
       " ['DIA', 13],\n",
       " ['CLOVER', 2],\n",
       " ['DIA', 11],\n",
       " ['CLOVER', 6],\n",
       " ['CLOVER', 9],\n",
       " ['DIA', 9],\n",
       " ['DIA', 10],\n",
       " ['HEART', 7],\n",
       " ['SPADE', 6],\n",
       " ['CLOVER', 1],\n",
       " ['SPADE', 12],\n",
       " ['HEART', 4],\n",
       " ['DIA', 2],\n",
       " ['SPADE', 1],\n",
       " ['DIA', 6],\n",
       " ['HEART', 1],\n",
       " ['SPADE', 11],\n",
       " ['DIA', 8],\n",
       " ['SPADE', 5],\n",
       " ['HEART', 9],\n",
       " ['CLOVER', 5],\n",
       " ['HEART', 12],\n",
       " ['SPADE', 4],\n",
       " ['DIA', 1],\n",
       " ['DIA', 3],\n",
       " ['CLOVER', 13],\n",
       " ['CLOVER', 10],\n",
       " ['CLOVER', 8],\n",
       " ['SPADE', 2],\n",
       " ['DIA', 4],\n",
       " ['HEART', 2],\n",
       " ['HEART', 11],\n",
       " ['CLOVER', 7],\n",
       " ['SPADE', 9],\n",
       " ['CLOVER', 4],\n",
       " ['HEART', 13],\n",
       " ['HEART', 5],\n",
       " ['SPADE', 7],\n",
       " ['SPADE', 13],\n",
       " ['SPADE', 3],\n",
       " ['DIA', 7],\n",
       " ['SPADE', 8],\n",
       " ['HEART', 8],\n",
       " ['SPADE', 10],\n",
       " ['CLOVER', 12],\n",
       " ['CLOVER', 3]]"
      ]
     },
     "execution_count": 44,
     "metadata": {},
     "output_type": "execute_result"
    }
   ],
   "source": [
    "mydeck"
   ]
  },
  {
   "cell_type": "code",
   "execution_count": 34,
   "metadata": {},
   "outputs": [],
   "source": [
    "number = [1, 2, 3, 4, 5, 6, 7, 8, 9, 10, 11, 12, 13]\n",
    "pattern = ['SPADE', \"HEART\", \"DIA\", \"CLOVER\"]"
   ]
  },
  {
   "cell_type": "code",
   "execution_count": 36,
   "metadata": {},
   "outputs": [],
   "source": [
    "random.shuffle(number)"
   ]
  },
  {
   "cell_type": "code",
   "execution_count": 37,
   "metadata": {},
   "outputs": [
    {
     "data": {
      "text/plain": [
       "[2, 6, 11, 3, 7, 5, 9, 4, 8, 1, 13, 12, 10]"
      ]
     },
     "execution_count": 37,
     "metadata": {},
     "output_type": "execute_result"
    }
   ],
   "source": [
    "number"
   ]
  },
  {
   "cell_type": "code",
   "execution_count": 14,
   "metadata": {},
   "outputs": [
    {
     "name": "stdout",
     "output_type": "stream",
     "text": [
      "1\n",
      "2\n",
      "3\n",
      "4\n",
      "5\n",
      "6\n",
      "7\n",
      "8\n",
      "9\n",
      "10\n",
      "11\n",
      "12\n",
      "13\n"
     ]
    }
   ],
   "source": [
    "for num in number:\n",
    "    print(num)"
   ]
  },
  {
   "cell_type": "code",
   "execution_count": 15,
   "metadata": {},
   "outputs": [
    {
     "name": "stdout",
     "output_type": "stream",
     "text": [
      "SPADE\n",
      "HEART\n",
      "DIA\n",
      "CLOVER\n"
     ]
    }
   ],
   "source": [
    "for shape in pattern:\n",
    "    print(shape)"
   ]
  },
  {
   "cell_type": "code",
   "execution_count": 17,
   "metadata": {},
   "outputs": [],
   "source": [
    "card = []\n",
    "for shape in pattern:\n",
    "    for num in number:\n",
    "        card.append([shape, num])"
   ]
  },
  {
   "cell_type": "code",
   "execution_count": 19,
   "metadata": {},
   "outputs": [
    {
     "data": {
      "text/plain": [
       "52"
      ]
     },
     "execution_count": 19,
     "metadata": {},
     "output_type": "execute_result"
    }
   ],
   "source": [
    "len(card)"
   ]
  },
  {
   "cell_type": "code",
   "execution_count": null,
   "metadata": {},
   "outputs": [],
   "source": []
  }
 ],
 "metadata": {
  "kernelspec": {
   "display_name": "bitaca",
   "language": "python",
   "name": "bitaca"
  },
  "language_info": {
   "codemirror_mode": {
    "name": "ipython",
    "version": 3
   },
   "file_extension": ".py",
   "mimetype": "text/x-python",
   "name": "python",
   "nbconvert_exporter": "python",
   "pygments_lexer": "ipython3",
   "version": "3.9.6"
  }
 },
 "nbformat": 4,
 "nbformat_minor": 4
}
